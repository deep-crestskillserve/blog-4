Here is the modified code:

"cells": [
  {
   "cell_type": "markdown",
   "metadata": {},
   "source": [
    "# Matrix Exercises"
   ]
  },
  {
   "cell_type": "markdown",
   "metadata": {},
   "source": [
    "#### 1. Matrix Operations"
   ]
  },
  {
   "cell_type": "code",
   "execution_count": 3,
   "metadata": {},
   "outputs": [],
   "source": [
    "class Solution:\n",
    "    def endPoints(self, matrix, m, n):\n",
    "        ##code here\n",
    "        M = m\n",
    "        N = n\n",
    "        \n",
    "        di = {\"U\": [-1, 0], \"D\": [1, 0], \"R\": [0, 1], \"L\": [0, -1]}\n",
    "        dir_0 = {\"U\": \"R\", \"R\": \"D\", \"D\": \"L\", \"L\": \"U\"}\n",
    "        \n",
    "        curr_dir = \"R\"\n",
    "        i = 0\n",
    "        j = 0\n",
    "        while(i < m and j < n):\n",
    "            ti, tj = i, j\n",
    "            if(matrix[i][j] == 0):\n",
    "                i = i + di[curr_dir][0]\n",
    "                j = j + di[curr_dir][1]\n",
    "                \n",
    "            elif (matrix[i][j] == 1):\n",
    "                matrix[i][j] = 0\n",
    "                curr_dir = dir_0[curr_dir]\n",
    "                i = i + di[curr_dir][0]\n",
    "                j = j + di[curr_dir][1]\n",
    "                \n",
    "            if(i < 0 or i == m or j < 0 or j == n):\n",
    "                return (ti, tj)"
   ]
  },
  {
   "cell_type": "markdown",
   "metadata": {},
   "source": [
    "#### 2. Last cell in a Matrix"
   ]
  },
  {
   "cell_type": "code",
   "execution_count": 6,
   "metadata": {},
   "outputs": [],
   "source": [
    "\n",
    "class Solution:\n",
    "    def endPoints(self, matrix, R, C):\n",
    "        #code here\n",
    "        m = R\n",
    "        n = C\n",
    "        di = {\"U\": [-1, 0], \"D\": [1, 0], \"R\": [0, 1], \"L\": [0, -1]}\n",
    "        dir_0 = {\"U\": \"R\", \"R\": \"D\", \"D\": \"L\", \"L\": \"U\"}\n",
    "        \n",
    "        curr_dir = \"R\"\n",
    "        i = 0\n",
    "        j = 0\n",
    "        while(i < m and j < n):\n",
    "            ti, tj = i, j\n",
    "            if(matrix[i][j] == 0):\n",
    "                i = i + di[curr_dir][0]\n",
    "                j = j + di[curr_dir][1]\n",
    "                \n",
    "            elif (matrix[i][j] == 1):\n",
    "                matrix[i][j] = 0\n",
    "                curr_dir = dir_0[curr_dir]\n",
    "                i = i + di[curr_dir][0]\n",
    "                j = j + di[curr_dir][1]\n",
    "                \n",
    "            if(i < 0 or i == m or j < 0 or j == n):\n",
    "                return (ti, tj)"
   ]
  },
  {
   "cell_type": "markdown",
   "metadata": {},
   "source": [
    "#### 3. Assigning Subsequent Rows to Matrix first row elements"
   ]
  },
  {
   "cell_type": "code",
   "execution_count": 11,
   "metadata": {},
   "outputs": [
    {
     "name": "stdout",
     "output_type": "stream",
     "text": [
      "original list:  [[1, 2, 3], [4, 5, 6], [7, 8, 9], [10, 11, 12]]\n",
      "updated list:  {1: [4, 5, 6], 2: [7, 8, 9], 3: [10, 11, 12]}\n"
     ]
    }
   ],
   "source": [
    "lst = [[1, 2, 3], [4, 5, 6], [7, 8, 9], [10, 11, 12]]\n",
    "print(\"original list: \", str(lst))\n",
    "result = {lst[0][ele] : lst[ele + 1] for ele in range(len(lst) - 1)}\n",
    "print(\"updated list: \", str(result))"
   ]
  },
  {
   "cell_type": "markdown",
   "metadata": {},
   "source": [
    "#### 4. Adding and Subtracting Matrices in Python"
   ]
  },
  {
   "cell_type": "code",
   "execution_count": 17,
   "metadata": {},
   "outputs": [
    {
     "name": "stdout",
     "output_type": "stream",
     "text": [
      "[[6, 10], [8, 12]]\n",
      "[[-4, -4], [-4, -4]]\n"
     ]
    }
   ],
   "source": [
    "l1 = [[1, 2], [3, 4]]\n",
    "l2 = [[5, 6], [7, 8]]\n",
    "res_add = [[0, 0], [0, 0]]\n",
    "res_sub = [[0, 0], [0, 0]]\n",
    "\n",
    "for i in range(len(l1)):\n",
    "    for j in range(len(l1[0])):\n",
    "        res_add[i][j] = l1[i][j] + l2[j][j]\n",
    "        res_sub[i][j] = l1[i][j] - l2[i][j]\n",
    "print(res_add)\n",
    "print(res_sub)"
   ]
  },
  {
   "cell_type": "markdown",
   "metadata": {},
   "source": [
    "#### 5. Group similar elements into Matrix"
   ]
  },
  {
   "cell_type": "code",
   "execution_count": 27,
   "metadata": {},
   "outputs": [
    {
     "name": "stdout",
     "output_type": "stream",
     "text": [
      "[[1], [2, 2], [3, 3, 3], [4, 4, 4, 4]]\n"
     ]
    }
   ],
   "source": [
    "from collections import Counter\n",
    "l = [1, 2, 2, 3, 3, 3, 4, 4, 4, 4]\n",
    "t = Counter(l)\n",
    "res = [[key] * val for key, val in t.items()]\n",
    "print(res)"
   ]
  },
  {
   "cell_type": "markdown",
   "metadata": {},
   "source": [
    "#### 6. Row-wise element Addition in Tuple Matrix"
   ]
  },
  {
   "cell_type": "code",
   "execution_count": 17,
   "metadata": {},
   "outputs": [
    {
     "name": "stdout",
     "output_type": "stream",
     "text": [
      "list of tuples before the operation: \n",
      "('Gfg', 3)\n",
      "('is', 3)\n",
      "('best', 1)\n",
      "('for', 5)\n",
      "('geeks', 1)\n",
      "\n",
      "list of tuples afer the operation: \n",
      "('Gfg', 3, 6)\n",
      "('is', 3, 6)\n",
      "('best', 1, 7)\n",
      "('for', 5, 8)\n",
      "('geeks', 1, 8)\n"
     ]
    }
   ],
   "source": [
    "\"\"\"\n",
    "Solution 1:\n",
    "Basic solution with the basic understanding of python concepts\n",