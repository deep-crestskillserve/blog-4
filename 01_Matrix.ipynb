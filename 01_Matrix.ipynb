"cells": [
  {
   "cell_type": "markdown",
   "metadata": {},
   "source": [
    "# Matrix Ecercises\n"
   ]
  },
  {
   "cell_type": "markdown",
   "metadata": {},
   "source": [
    "#### 1. Matrix Operations"
   ]
  },
  {
   "cell_type": "code",
   "metadata": {},
   "outputs": [],
   "source": [
    "class Solution:\n",
    "    def endPoints(self, matrix, m, n):\n",
    "        ##code here\n",
    "        M = m\n",
    "        N = n\n",
    "        \n",
    "        di = {\"U\": [-1, 0], \"D\": [1, 0], \"R\": [0, 1], \"L\": [0, -1]}\n",
    "        dir_0 = {\"U\": \"R\", \"R\": \"D\", \"D\": \"L\", \"L\": \"U\"}\n",
    "        \n",
    "        curr_dir = \"R\"\n",
    "        i = 0\n",
    "        j = 0\n",
    "        while(i < m and j < n):\n",
    "            ti, tj = i, j\n",
    "            if(matrix[i][j] == 0):\n",
    "                i = i + di[curr_dir][0]\n",
    "                j = j + di[curr_dir][1]\n",
    "                \n",
    "            elif (matrix[i][j] == 1):\n",
    "                matrix[i][j] = 0\n",
    "                curr_dir = dir_0[curr_dir]\n",
    "                i = i + di[curr_dir][0]\n",
    "                j = j + di[curr_dir][1]\n",
    "                \n",
    "            if(i < 0 or i == m or j < 0 or j == n):\n",
    "                return (ti, tj)"
   ]
  },
  {
   "cell_type": "markdown",
   "metadata": {},
   "source": [
    "#### 2. Last cell in a Matrix"
   ]
  },
  {
   "cell_type": "code",
   "metadata": {},
   "outputs": [],
   "source": [
    "\n",
    "class Solution:\n",
    "    def endPoints(self, matrix, R, C):\n",
    "        #code here\n",
    "        m = R\n",
    "        n = C\n",
    "        di = {\"U\": [-1, 0], \"D\": [1, 0], \"R\": [0, 1], \"L\": [0, -1]}\n",
    "        dir_0 = {\"U\": \"R\", \"R\": \"D\", \"D\": \"L\", \"L\": \"U\"}\n",
    "        \n",
    "        curr_dir = \"R\"\n",
    "        i = 0\n",
    "        j = 0\n",
    "        while(i < m and j < n):\n",
    "            ti, tj = i, j\n",
    "            if(matrix[i][j] == 0):\n",
    "                i = i + di[curr_dir][0]\n",
    "                j = j + di[curr_dir][1]\n",
    "                \n",
    "            elif (matrix[i][j] == 1):\n",
    "                matrix[i][j] = 0\n",
    "                curr_dir = dir_0[curr_dir]\n",
    "                i = i + di[curr_dir][0]\n",
    "                j = j + di[curr_dir][1]\n",
    "                \n",
    "            if(i < 0 or i == m or j < 0 or j == n):\n",
    "                return (ti, tj)"
   ]
  },
  {
   "cell_type": "markdown",
   "metadata": {},
   "source": [
    "#### 3. Assigning Subsequent Rows to Matrix first row elements"
   ]
  },
  {
   "cell_type": "code",
   "metadata": {},
   "outputs": [
    {
     "name": "stdout",
     "output_type": "stream",
     "text": [
      "original list:  [[1, 2, 3], [4, 5, 6], [7, 8, 9], [10, 11, 12]]\n",
      "updated list:  {1: [4, 5, 6], 2: [7, 8, 9], 3: [10, 11, 12]}\n"
     ]
    }
   ],
   "source": [
    "lst = [[1, 2, 3], [4, 5, 6], [7, 8, 9], [10, 11, 12]]\n",
    "print(\"original list: \", str(lst))\n",
    "result = {lst[0][ele] : lst[ele + 1] for ele in range(len(lst) - 1)}\n",
    "print(\"updated list: \", str(result))"
   ]
  },
  {
   "cell_type": "markdown",
   "metadata": {},
   "source": [
    "#### 4. Adding and Subtracting Matrices in Python"
   ]
  },
  {
   "cell_type": "code",
   "metadata": {},
   "outputs": [
    {
     "name": "stdout",
     "output_type": "stream",
     "text": [
      "[[6, 10], [8, 12]]\n",
      "[[-4, -4], [-4, -4]]\n"
     ]
    }
   ],
   "source": [
    "l1 = [[1, 2], [3, 4]]\n",
    "l2 = [[5, 6], [7, 8]]\n",
    "res_add = [[0, 0], [0, 0]]\n",
    "res_sub = [[0, 0], [0, 0]]\n",
    "\n",
    "for i in range(len(l1)):\n",
    "    for j in range(len(l1[0])):\n",
    "        res_add[i][j] = l1[i][j] + l2[j][j]\n",
    "        res_sub[i][j] = l1[i][j] - l2[i][j]\n",
    "print(res_add)\n",
    "print(res_sub)\n",
    "\n",
    "\n",
    "\n"
   ]
  },
  {
   "cell_type": "markdown",
   "metadata": {},
   "source": [
    "#### 5. Group similar elements into Matrix"
   ]
  },
  {
   "cell_type": "code",
   "metadata": {},
   "outputs": [
    {
     "name": "stdout",
     "output_type": "stream",
     "text": [
      "[[1], [2, 2], [3, 3, 3], [4, 4, 4, 4]]\n"
     ]
    }
   ],
   "source": [
    "from collections import Counter\n",
    "l = [1, 2, 2, 3, 3, 3, 4, 4, 4, 4]\n",
    "t = Counter(l)\n",
    "res = [[key] * val for key, val in t.items()]\n",
    "print(res)"
   ]
  },
  {
   "cell_type": "markdown",
   "metadata": {},
   "source": [
    "#### 6. Row-wise element Addition in Tuple Matrix"
   ]
  },
  {
   "cell_type": "code",
   "metadata": {},
   "outputs": [
    {
     "name": "stdout",
     "output_type": "stream",
     "text": [
      "List before operation  [[('Gfg', 3), ('is', 3)], [('best', 1)], [('for', 5), ('geeks', 1)]]\n",
      "\n",
      "\n",
      "\n",
      "List after operation  [[['Gfg', 3, 6], ['is', 3, 6]], [['best', 1, 7]], [['for', 5, 8], ['geeks', 1, 8]]]\n"
     ]
    }
   ],
   "source": [
    "\"\"\"\n",
    "Solution 2:\n",
    "This solution involoves use of zip() and list comprehension\n",
    "\"\"\"\n",
    "test_list = [[('Gfg', 3), ('is', 3)], [('best', 1)], [('for', 5), ('geeks', 1)]]\n",
    "cus_eles = [6, 7, 8]\n",
    "print(\