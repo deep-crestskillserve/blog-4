{
 "cells": [
  {
   "cell_type": "markdown",
   "id": "1945ccf4-7aa6-4068-a440-fba5599212e1",
   "metadata": {},
   "source": [
    "# Matrix Ecercises\n"
   ]
  },
  {
   "cell_type": "markdown",
   "id": "2953ac6b-1cfc-418b-8fba-ad5f5d2813a0",
   "metadata": {},
   "source": [
    "#### 1. Matrix Operations"
   ]
  },
  {
   "cell_type": "code",
   "execution_count": 3,
   "id": "71f240a1-8982-465c-8a8d-ef70289957a2",
   "metadata": {},
   "outputs": [],
   "source": [
    "class Solution:\n",
    "    def endPoints(self, matrix, m, n):\n",
    "        ##code here\n",
    "        M = m\n",
    "        N = n\n",
    "        \n",
    "        di = {\"U\": [-1, 0], \"D\": [1, 0], \"R\": [0, 1], \"L\": [0, -1]}\n",
    "        dir_0 = {\"U\": \"R\", \"R\": \"D\", \"D\": \"L\", \"L\": \"U\"}\n",
    "        \n",
    "        curr_dir = \"R\"\n",
    "        i = 0\n",
    "        j = 0\n",
    "        while(i < m and j < n):\n",
    "            ti, tj = i, j\n",
    "            if(matrix[i][j] == 0):\n",
    "                i = i + di[curr_dir][0]\n",
    "                j = j + di[curr_dir][1]\n",
    "                \n",
    "            elif (matrix[i][j] == 1):\n",
    "                matrix[i][j] = 0\n",
    "                curr_dir = dir_0[curr_dir]\n",
    "                i = i + di[curr_dir][0]\n",
    "                j = j + di[curr_dir][1]\n",
    "                \n",
    "            if(i < 0 or i == m or j < 0 or j == n):\n",
    "                return (ti, tj)"
   ]
  },
  {
   "cell_type": "markdown",
   "id": "b087ed96-7b4a-4712-94ae-999e9bec98ff",
   "metadata": {},
   "source": [
    "#### 2. Last cell in a Matrix"
   ]
  },
  {
   "cell_type": "code",
   "execution_count": 6,
   "id": "7c20fbba-68fb-438e-87ce-89fdab853ac7",
   "metadata": {},
   "outputs": [],
   "source": [
    "\n",
    "class Solution:\n",
    "    def endPoints(self, matrix, R, C):\n",
    "        #code here\n",
    "        m = R\n",
    "        n = C\n",
    "        di = {\"U\": [-1, 0], \"D\": [1, 0], \"R\": [0, 1], \"L\": [0, -1]}\n",
    "        dir_0 = {\"U\": \"R\", \"R\": \"D\", \"D\": \"L\", \"L\": \"U\"}\n",
    "        \n",
    "        curr_dir = \"R\"\n",
    "        i = 0\n",
    "        j = 0\n",
    "        while(i < m and j < n):\n",
    "            ti, tj = i, j\n",
    "            if(matrix[i][j] == 0):\n",
    "                i = i + di[curr_dir][0]\n",
    "                j = j + di[curr_dir][1]\n",
    "                \n",
    "            elif (matrix[i][j] == 1):\n",
    "                matrix[i][j] = 0\n",
    "                curr_dir = dir_0[curr_dir]\n",
    "                i = i + di[curr_dir][0]\n",
    "                j = j + di[curr_dir][1]\n",
    "                \n",
    "            if(i < 0 or i == m or j < 0 or j == n):\n",
    "                return (ti, tj)"
   ]
  },
  {
   "cell_type": "markdown",
   "id": "82a04911-55aa-4a4b-8419-a5cd950d71b9",
   "metadata": {},
   "source": [
    "#### 3. Assigning Subsequent Rows to Matrix first row elements"
   ]
  },
  {
   "cell_type": "code",
   "execution_count": 11,
   "id": "1fb7dc93-07d9-4bc3-8f04-86c96e99f314",
   "metadata": {},
   "outputs": [
    {
     "name": "stdout",
     "output_type": "stream",
     "text": [
      "original list:  [[1, 2, 3], [4, 5, 6], [7, 8, 9], [10, 11, 12]]\n",
      "updated list:  {1: [4, 5, 6], 2: [7, 8, 9], 3: [10, 11, 12]}\n"
     ]
    }
   ],
   "source": [
    "lst = [[1, 2, 3], [4, 5, 6], [7, 8, 9], [10, 11, 12]]\n",
    "print(\"original list: \", str(lst))\n",
    "result = {lst[0][ele] : lst[ele + 1] for ele in range(len(lst) - 1)}\n",
    "print(\"updated list: \", str(result))"
   ]
  },
  {
   "cell_type": "markdown",
   "id": "28dd45d4-3c9c-4ac6-8f34-0454ee316626",
   "metadata": {},
   "source": [
    "#### 4. Adding and Subtracting Matrices in Python"
   ]
  },
  {
   "cell_type": "code",
   "execution_count": 17,
   "id": "5c1262f3-2eb0-4219-a012-8a3efd516fc1",
   "metadata": {},
   "outputs": [
    {
     "name": "stdout",
     "output_type": "stream",
     "text": [
      "[[6, 10], [8, 12]]\n",
      "[[-4, -4], [-4, -4]]\n"
     ]
    }
   ],
   "source": [
    "l1 = [[1, 2], [3, 4]]\n",
    "l2 = [[5, 6], [7, 8]]\n",
    "res_add = [[0, 0], [0, 0]]\n",
    "res_sub = [[0, 0], [0, 0]]\n",
    "\n",
    "for i in range(len(l1)):\n",
    "    for j in range(len(l1[0])):\n",
    "        res_add[i][j] = l1[i][j] + l2[j][j]\n",
    "        res_sub[i][j] = l1[i][j] - l2[i][j]\n",
    "print(res_add)\n",
    "print(res_sub)\n",
    "\n",
    "\n",
    "\n"
   ]
  },
  {
   "cell_type": "markdown",
   "id": "80b39e8b-d51c-41e3-821a-f33c9029fc9a",
   "metadata": {},
   "source": [
    "#### 5. Group similar elements into Matrix"
   ]
  },
  {
   "cell_type": "code",
   "execution_count": 27,
   "id": "b79fc8d8-9919-4344-96e9-df2ad44b775d",
   "metadata": {},
   "outputs": [
    {
     "name": "stdout",
     "output_type": "stream",
     "text": [
      "[[1], [2, 2], [3, 3, 3], [4, 4, 4, 4]]\n"
     ]
    }
   ],
   "source": [
    "from collections import Counter\n",
    "l = [1, 2, 2, 3, 3, 3, 4, 4, 4, 4]\n",
    "t = Counter(l)\n",
    "res = [[key] * val for key, val in t.items()]\n",
    "print(res)"
   ]
  },
  {
   "cell_type": "markdown",
   "id": "e3bcb5b9-607a-4e18-bcd4-9c2b15011d76",
   "metadata": {},
   "source": [
    "#### 6. Row-wise element Addition in Tuple Matrix"
   ]
  },
  {
   "cell_type": "code",
   "execution_count": 17,
   "id": "bd9f1b22-f344-4bee-a8f4-42a410acea07",
   "metadata": {},
   "outputs": [
    {
     "name": "stdout",
     "output_type": "stream",
     "text": [
      "list of tuples before the operation: \n",
      "('Gfg', 3)\n",
      "('is', 3)\n",
      "('best', 1)\n",
      "('for', 5)\n",
      "('geeks', 1)\n",
      "\n",
      "list of tuples afer the operation: \n",
      "('Gfg', 3, 6)\n",
      "('is', 3, 6)\n",
      "('best', 1, 7)\n",
      "('for', 5, 8)\n",
      "('geeks', 1, 8)\n"
     ]
    }
   ],
   "source": [
    "\"\"\"\n",
    "Solution 1:\n",
    "Basic solution with the basic understanding of python concepts\n",
    "In this solution, the steps followed are as mentioned:\n",
    "(1) conversion of tuples to list and storing it into a temp list\n",
    "(2) appending the elements of cus_eles into the temp_list\n",
    "(3) typecasting list into tuples and assigning it back to the cus_eles\n",
    "\"\"\"\n",
    "test_list = [[('Gfg', 3), ('is', 3)], [('best', 1)], [('for', 5), ('geeks', 1)]]\n",
    "cus_eles = [6, 7, 8]\n",
    "\n",
    "print(\"list of tuples before the operation: \")\n",
    "for x in range(len(test_list)):\n",
    "    # print(test_list[x])\n",
    "    for y in range(len(test_list[x])):\n",
    "        print(test_list[x][y])\n",
    "\n",
    "print()\n",
    "for x in range(len(test_list)):\n",
    "    for y in range(len(test_list[x])):\n",
    "        temp_list = list(test_list[x][y])\n",
    "        temp_list.append(cus_eles[x])\n",
    "        test_list[x][y] = tuple(temp_list)\n",
    "\n",
    "print(\"list of tuples afer the operation: \")\n",
    "for x in range(len(test_list)):\n",
    "    # print(test_list[x])\n",
    "    for y in range(len(test_list[x])):\n",
    "        print(test_list[x][y])"
   ]
  },
  {
   "cell_type": "code",
   "execution_count": 41,
   "id": "c82f35c6-89ce-4af6-8791-e6b13c4e4dd7",
   "metadata": {},
   "outputs": [
    {
     "name": "stdout",
     "output_type": "stream",
     "text": [
      "List before operation  [[('Gfg', 3), ('is', 3)], [('best', 1)], [('for', 5), ('geeks', 1)]]\n",
      "\n",
      "\n",
      "\n",
      "List after operation  [[['Gfg', 3, 6], ['is', 3, 6]], [['best', 1, 7]], [['for', 5, 8], ['geeks', 1, 8]]]\n"
     ]
    }
   ],
   "source": [
    "\"\"\"\n",
    "Solution 2:\n",
    "This solution involoves use of zip() and list comprehension\n",
    "\"\"\"\n",
    "test_list = [[('Gfg', 3), ('is', 3)], [('best', 1)], [('for', 5), ('geeks', 1)]]\n",
    "cus_eles = [6, 7, 8]\n",
    "print(\"List before operation \", str(test_list))\n",
    "test_list = [[(idx + (val ,)) for idx in key] for key, val in zip(test_list, cus_eles)]\n",
    "for ls in range(len(test_list)):\n",
    "    # for tup in range(test_list[ls]):\n",
    "    test_list[ls] = list(test_list[ls])\n",
    "    # print(test_list[ls], end = \" \")\n",
    "    for tup in range(len(test_list[ls])):\n",
    "        test_list[ls][tup] = list(test_list[ls][tup])\n",
    "        \n",
    "    print()\n",
    "# test_list = [[(idx + tuple(val)) for idx in key] for key, val in zip(test_list, cus_eles)]\n",
    "# this does not work as tupe(), list() and other iterable typecasting can only be called on iterators itself, here the val is an integer, so this gives an error\n",
    "# for ele in zip(test_list, cus_eles):\n",
    "    # print(ele)\n",
    "print(\"List after operation \", str(test_list))\n"
   ]
  },
  {
   "cell_type": "markdown",
   "id": "2de2834f-efd7-4983-87c5-d8b0d9f6b31e",
   "metadata": {},
   "source": [
    "#### 7. Create an n x n square matrix, where all the sub-matrix have the sum of opposite corner elements as even"
   ]
  },
  {
   "cell_type": "code",
   "execution_count": 50,
   "id": "a95cf40e-f234-435d-a49f-a4d3b58a5a33",
   "metadata": {},
   "outputs": [
    {
     "name": "stdout",
     "output_type": "stream",
     "text": [
      "[[1, 2, 3, 4], [5, 6, 7, 8], [9, 10, 11, 12], [13, 14, 15, 16]]\n",
      "[[1, 2, 3, 4], [8, 7, 6, 5], [9, 10, 11, 12], [16, 15, 14, 13]]\n"
     ]
    }
   ],
   "source": [
    "import itertools\n",
    "def fun(n):\n",
    "    temp = itertools.count(1)\n",
    "    # intertools.count(n, step) = this will give the infinite iterator, starting from the n and incremented with each step\n",
    "    ls = [[next(temp) for i in range(n)] for i in range(n)]\n",
    "    # next element of the iterator will be called using the next()\n",
    "    print(ls)\n",
    "    if (n % 2 == 0):\n",
    "        for i in range(n):\n",
    "            if(i % 2 == 1):\n",
    "                ls[i][:] = ls[i][::-1]\n",
    "                # this is the reversal of the list, on the basis of the condition\n",
    "    print(ls)\n",
    "n = 4\n",
    "fun(n)"
   ]
  },
  {
   "cell_type": "code",
   "execution_count": null,
   "id": "3a541fbc-ed7f-40c8-b88e-abaacd6075fa",
   "metadata": {},
   "outputs": [],
   "source": []
  }
 ],
 "metadata": {
  "kernelspec": {
   "display_name": "Python [conda env:base] *",
   "language": "python",
   "name": "conda-base-py"
  },
  "language_info": {
   "codemirror_mode": {
    "name": "ipython",
    "version": 3
   },
   "file_extension": ".py",
   "mimetype": "text/x-python",
   "name": "python",
   "nbconvert_exporter": "python",
   "pygments_lexer": "ipython3",
   "version": "3.12.7"
  }
 },
 "nbformat": 4,
 "nbformat_minor": 5
}
